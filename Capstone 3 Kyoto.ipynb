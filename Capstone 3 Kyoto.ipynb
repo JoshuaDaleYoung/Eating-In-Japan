{
 "cells": [
  {
   "cell_type": "code",
   "execution_count": 9,
   "metadata": {},
   "outputs": [],
   "source": [
    "import numpy as np\n",
    "import pandas as pd\n",
    "import matplotlib.pyplot as plt\n",
    "%matplotlib inline\n",
    "import seaborn as sns"
   ]
  },
  {
   "cell_type": "markdown",
   "metadata": {},
   "source": [
    "**Set Up** After importining the necessary libraries to do descriptive and inferential statistics we take a first look at the data. "
   ]
  },
  {
   "cell_type": "code",
   "execution_count": 2,
   "metadata": {},
   "outputs": [],
   "source": [
    "data = pd.read_csv('Kyoto_Restaurant_Info.csv')"
   ]
  },
  {
   "cell_type": "code",
   "execution_count": 3,
   "metadata": {},
   "outputs": [
    {
     "data": {
      "text/html": [
       "<div>\n",
       "<style scoped>\n",
       "    .dataframe tbody tr th:only-of-type {\n",
       "        vertical-align: middle;\n",
       "    }\n",
       "\n",
       "    .dataframe tbody tr th {\n",
       "        vertical-align: top;\n",
       "    }\n",
       "\n",
       "    .dataframe thead th {\n",
       "        text-align: right;\n",
       "    }\n",
       "</style>\n",
       "<table border=\"1\" class=\"dataframe\">\n",
       "  <thead>\n",
       "    <tr style=\"text-align: right;\">\n",
       "      <th></th>\n",
       "      <th>Unnamed: 0</th>\n",
       "      <th>Name</th>\n",
       "      <th>JapaneseName</th>\n",
       "      <th>Station</th>\n",
       "      <th>FirstCategory</th>\n",
       "      <th>SecondCategory</th>\n",
       "      <th>DinnerPrice</th>\n",
       "      <th>LunchPrice</th>\n",
       "      <th>TotalRating</th>\n",
       "      <th>DinnerRating</th>\n",
       "      <th>LunchRating</th>\n",
       "      <th>ReviewNum</th>\n",
       "      <th>Lat</th>\n",
       "      <th>Long</th>\n",
       "    </tr>\n",
       "  </thead>\n",
       "  <tbody>\n",
       "    <tr>\n",
       "      <th>0</th>\n",
       "      <td>1</td>\n",
       "      <td>Orudeidainingurajou</td>\n",
       "      <td>オールデイダイニング　ラジョウ</td>\n",
       "      <td>Kyoto</td>\n",
       "      <td>Buffet style</td>\n",
       "      <td>Cafe</td>\n",
       "      <td>￥4000～￥4999</td>\n",
       "      <td>￥2000～￥2999</td>\n",
       "      <td>3.39</td>\n",
       "      <td>3.20</td>\n",
       "      <td>3.38</td>\n",
       "      <td>56</td>\n",
       "      <td>34.986175</td>\n",
       "      <td>135.761314</td>\n",
       "    </tr>\n",
       "    <tr>\n",
       "      <th>1</th>\n",
       "      <td>2</td>\n",
       "      <td>Steak Frites Gaspard zinzin</td>\n",
       "      <td>ステックフリット ガスパール ザンザン</td>\n",
       "      <td>Karasuma</td>\n",
       "      <td>Bistro</td>\n",
       "      <td>Steak</td>\n",
       "      <td>￥3000～￥3999</td>\n",
       "      <td>￥1000～￥1999</td>\n",
       "      <td>3.18</td>\n",
       "      <td>3.06</td>\n",
       "      <td>3.33</td>\n",
       "      <td>70</td>\n",
       "      <td>35.005826</td>\n",
       "      <td>135.759857</td>\n",
       "    </tr>\n",
       "    <tr>\n",
       "      <th>2</th>\n",
       "      <td>3</td>\n",
       "      <td>KAZUMA</td>\n",
       "      <td>和馬</td>\n",
       "      <td>Sanjo</td>\n",
       "      <td>Izakaya (Tavern)</td>\n",
       "      <td>Japanese food (other)</td>\n",
       "      <td>￥3000～￥3999</td>\n",
       "      <td>NaN</td>\n",
       "      <td>3.28</td>\n",
       "      <td>3.28</td>\n",
       "      <td>NaN</td>\n",
       "      <td>7</td>\n",
       "      <td>35.006583</td>\n",
       "      <td>135.770247</td>\n",
       "    </tr>\n",
       "    <tr>\n",
       "      <th>3</th>\n",
       "      <td>4</td>\n",
       "      <td>okonomiyakiteppanyakimiki</td>\n",
       "      <td>お好み焼き 鉄板焼き 三喜</td>\n",
       "      <td>Tambaguchi</td>\n",
       "      <td>Okonomiyaki</td>\n",
       "      <td>Izakaya (Tavern)</td>\n",
       "      <td>￥3000～￥3999</td>\n",
       "      <td>NaN</td>\n",
       "      <td>3.14</td>\n",
       "      <td>3.14</td>\n",
       "      <td>NaN</td>\n",
       "      <td>16</td>\n",
       "      <td>34.995924</td>\n",
       "      <td>135.748267</td>\n",
       "    </tr>\n",
       "    <tr>\n",
       "      <th>4</th>\n",
       "      <td>5</td>\n",
       "      <td>Shaofeiyan</td>\n",
       "      <td>小肥羊 京都河原町店</td>\n",
       "      <td>Kyoto Shiyakusho Mae</td>\n",
       "      <td>Chinese hot pot / fire pot</td>\n",
       "      <td>Chinese</td>\n",
       "      <td>￥4000～￥4999</td>\n",
       "      <td>￥1000～￥1999</td>\n",
       "      <td>3.16</td>\n",
       "      <td>3.16</td>\n",
       "      <td>3.05</td>\n",
       "      <td>23</td>\n",
       "      <td>35.007901</td>\n",
       "      <td>135.768202</td>\n",
       "    </tr>\n",
       "  </tbody>\n",
       "</table>\n",
       "</div>"
      ],
      "text/plain": [
       "   Unnamed: 0                           Name         JapaneseName  \\\n",
       "0           1          Orudeidainingurajou        オールデイダイニング　ラジョウ   \n",
       "1           2  Steak Frites Gaspard zinzin    ステックフリット ガスパール ザンザン   \n",
       "2           3                       KAZUMA                     和馬   \n",
       "3           4    okonomiyakiteppanyakimiki          お好み焼き 鉄板焼き 三喜   \n",
       "4           5                   Shaofeiyan             小肥羊 京都河原町店   \n",
       "\n",
       "                Station               FirstCategory         SecondCategory  \\\n",
       "0                 Kyoto                Buffet style                   Cafe   \n",
       "1              Karasuma                      Bistro                  Steak   \n",
       "2                 Sanjo            Izakaya (Tavern)  Japanese food (other)   \n",
       "3            Tambaguchi                 Okonomiyaki       Izakaya (Tavern)   \n",
       "4  Kyoto Shiyakusho Mae  Chinese hot pot / fire pot                Chinese   \n",
       "\n",
       "   DinnerPrice   LunchPrice  TotalRating  DinnerRating  LunchRating  \\\n",
       "0  ￥4000～￥4999  ￥2000～￥2999         3.39          3.20         3.38   \n",
       "1  ￥3000～￥3999  ￥1000～￥1999         3.18          3.06         3.33   \n",
       "2  ￥3000～￥3999          NaN         3.28          3.28          NaN   \n",
       "3  ￥3000～￥3999          NaN         3.14          3.14          NaN   \n",
       "4  ￥4000～￥4999  ￥1000～￥1999         3.16          3.16         3.05   \n",
       "\n",
       "   ReviewNum        Lat        Long  \n",
       "0         56  34.986175  135.761314  \n",
       "1         70  35.005826  135.759857  \n",
       "2          7  35.006583  135.770247  \n",
       "3         16  34.995924  135.748267  \n",
       "4         23  35.007901  135.768202  "
      ]
     },
     "execution_count": 3,
     "metadata": {},
     "output_type": "execute_result"
    }
   ],
   "source": [
    "data.head()\n"
   ]
  },
  {
   "cell_type": "code",
   "execution_count": 4,
   "metadata": {},
   "outputs": [
    {
     "data": {
      "text/plain": [
       "Index(['Unnamed: 0', 'Name', 'JapaneseName', 'Station', 'FirstCategory',\n",
       "       'SecondCategory', 'DinnerPrice', 'LunchPrice', 'TotalRating',\n",
       "       'DinnerRating', 'LunchRating', 'ReviewNum', 'Lat', 'Long'],\n",
       "      dtype='object')"
      ]
     },
     "execution_count": 4,
     "metadata": {},
     "output_type": "execute_result"
    }
   ],
   "source": [
    "data.columns"
   ]
  },
  {
   "cell_type": "code",
   "execution_count": 5,
   "metadata": {},
   "outputs": [
    {
     "data": {
      "text/plain": [
       "Unnamed: 0          int64\n",
       "Name               object\n",
       "JapaneseName       object\n",
       "Station            object\n",
       "FirstCategory      object\n",
       "SecondCategory     object\n",
       "DinnerPrice        object\n",
       "LunchPrice         object\n",
       "TotalRating       float64\n",
       "DinnerRating      float64\n",
       "LunchRating       float64\n",
       "ReviewNum           int64\n",
       "Lat               float64\n",
       "Long              float64\n",
       "dtype: object"
      ]
     },
     "execution_count": 5,
     "metadata": {},
     "output_type": "execute_result"
    }
   ],
   "source": [
    "data.dtypes"
   ]
  },
  {
   "cell_type": "code",
   "execution_count": 6,
   "metadata": {},
   "outputs": [
    {
     "data": {
      "text/plain": [
       "count    895.000000\n",
       "mean       3.212480\n",
       "std        0.215588\n",
       "min        3.000000\n",
       "25%        3.050000\n",
       "50%        3.090000\n",
       "75%        3.420000\n",
       "max        4.190000\n",
       "Name: TotalRating, dtype: float64"
      ]
     },
     "execution_count": 6,
     "metadata": {},
     "output_type": "execute_result"
    }
   ],
   "source": [
    "data['TotalRating'].describe()"
   ]
  },
  {
   "cell_type": "code",
   "execution_count": 7,
   "metadata": {},
   "outputs": [
    {
     "data": {
      "text/html": [
       "<div>\n",
       "<style scoped>\n",
       "    .dataframe tbody tr th:only-of-type {\n",
       "        vertical-align: middle;\n",
       "    }\n",
       "\n",
       "    .dataframe tbody tr th {\n",
       "        vertical-align: top;\n",
       "    }\n",
       "\n",
       "    .dataframe thead th {\n",
       "        text-align: right;\n",
       "    }\n",
       "</style>\n",
       "<table border=\"1\" class=\"dataframe\">\n",
       "  <thead>\n",
       "    <tr style=\"text-align: right;\">\n",
       "      <th></th>\n",
       "      <th>Unnamed: 0</th>\n",
       "      <th>TotalRating</th>\n",
       "      <th>DinnerRating</th>\n",
       "      <th>LunchRating</th>\n",
       "      <th>ReviewNum</th>\n",
       "      <th>Lat</th>\n",
       "      <th>Long</th>\n",
       "    </tr>\n",
       "  </thead>\n",
       "  <tbody>\n",
       "    <tr>\n",
       "      <th>Unnamed: 0</th>\n",
       "      <td>1.000000</td>\n",
       "      <td>0.088339</td>\n",
       "      <td>0.041732</td>\n",
       "      <td>0.048770</td>\n",
       "      <td>0.101474</td>\n",
       "      <td>-0.018645</td>\n",
       "      <td>-0.049550</td>\n",
       "    </tr>\n",
       "    <tr>\n",
       "      <th>TotalRating</th>\n",
       "      <td>0.088339</td>\n",
       "      <td>1.000000</td>\n",
       "      <td>0.920213</td>\n",
       "      <td>0.813692</td>\n",
       "      <td>0.326734</td>\n",
       "      <td>0.036272</td>\n",
       "      <td>0.033592</td>\n",
       "    </tr>\n",
       "    <tr>\n",
       "      <th>DinnerRating</th>\n",
       "      <td>0.041732</td>\n",
       "      <td>0.920213</td>\n",
       "      <td>1.000000</td>\n",
       "      <td>0.593806</td>\n",
       "      <td>0.281516</td>\n",
       "      <td>0.039288</td>\n",
       "      <td>0.033378</td>\n",
       "    </tr>\n",
       "    <tr>\n",
       "      <th>LunchRating</th>\n",
       "      <td>0.048770</td>\n",
       "      <td>0.813692</td>\n",
       "      <td>0.593806</td>\n",
       "      <td>1.000000</td>\n",
       "      <td>0.333693</td>\n",
       "      <td>0.089608</td>\n",
       "      <td>-0.001282</td>\n",
       "    </tr>\n",
       "    <tr>\n",
       "      <th>ReviewNum</th>\n",
       "      <td>0.101474</td>\n",
       "      <td>0.326734</td>\n",
       "      <td>0.281516</td>\n",
       "      <td>0.333693</td>\n",
       "      <td>1.000000</td>\n",
       "      <td>-0.025752</td>\n",
       "      <td>0.040495</td>\n",
       "    </tr>\n",
       "    <tr>\n",
       "      <th>Lat</th>\n",
       "      <td>-0.018645</td>\n",
       "      <td>0.036272</td>\n",
       "      <td>0.039288</td>\n",
       "      <td>0.089608</td>\n",
       "      <td>-0.025752</td>\n",
       "      <td>1.000000</td>\n",
       "      <td>-0.802595</td>\n",
       "    </tr>\n",
       "    <tr>\n",
       "      <th>Long</th>\n",
       "      <td>-0.049550</td>\n",
       "      <td>0.033592</td>\n",
       "      <td>0.033378</td>\n",
       "      <td>-0.001282</td>\n",
       "      <td>0.040495</td>\n",
       "      <td>-0.802595</td>\n",
       "      <td>1.000000</td>\n",
       "    </tr>\n",
       "  </tbody>\n",
       "</table>\n",
       "</div>"
      ],
      "text/plain": [
       "              Unnamed: 0  TotalRating  DinnerRating  LunchRating  ReviewNum  \\\n",
       "Unnamed: 0      1.000000     0.088339      0.041732     0.048770   0.101474   \n",
       "TotalRating     0.088339     1.000000      0.920213     0.813692   0.326734   \n",
       "DinnerRating    0.041732     0.920213      1.000000     0.593806   0.281516   \n",
       "LunchRating     0.048770     0.813692      0.593806     1.000000   0.333693   \n",
       "ReviewNum       0.101474     0.326734      0.281516     0.333693   1.000000   \n",
       "Lat            -0.018645     0.036272      0.039288     0.089608  -0.025752   \n",
       "Long           -0.049550     0.033592      0.033378    -0.001282   0.040495   \n",
       "\n",
       "                   Lat      Long  \n",
       "Unnamed: 0   -0.018645 -0.049550  \n",
       "TotalRating   0.036272  0.033592  \n",
       "DinnerRating  0.039288  0.033378  \n",
       "LunchRating   0.089608 -0.001282  \n",
       "ReviewNum    -0.025752  0.040495  \n",
       "Lat           1.000000 -0.802595  \n",
       "Long         -0.802595  1.000000  "
      ]
     },
     "execution_count": 7,
     "metadata": {},
     "output_type": "execute_result"
    }
   ],
   "source": [
    "data.corr()"
   ]
  },
  {
   "cell_type": "markdown",
   "metadata": {},
   "source": [
    "The strongest correlated variables are 'DinnerRating' and 'LunchRating' with 'TotalRating'. No surprise there. "
   ]
  },
  {
   "cell_type": "code",
   "execution_count": 8,
   "metadata": {},
   "outputs": [
    {
     "data": {
      "text/plain": [
       "Unnamed: 0          0\n",
       "Name                0\n",
       "JapaneseName        0\n",
       "Station             0\n",
       "FirstCategory       0\n",
       "SecondCategory     28\n",
       "DinnerPrice         0\n",
       "LunchPrice        411\n",
       "TotalRating         0\n",
       "DinnerRating        0\n",
       "LunchRating       402\n",
       "ReviewNum           0\n",
       "Lat                 0\n",
       "Long                0\n",
       "dtype: int64"
      ]
     },
     "execution_count": 8,
     "metadata": {},
     "output_type": "execute_result"
    }
   ],
   "source": [
    "data.isnull().sum()"
   ]
  },
  {
   "cell_type": "code",
   "execution_count": 9,
   "metadata": {},
   "outputs": [],
   "source": [
    "data.dropna(inplace=True)"
   ]
  },
  {
   "cell_type": "markdown",
   "metadata": {},
   "source": [
    "**Data Cleaning** dropped null values but kept DataFrame with valid entries in the same variable. "
   ]
  },
  {
   "cell_type": "code",
   "execution_count": 10,
   "metadata": {},
   "outputs": [
    {
     "data": {
      "text/plain": [
       "Unnamed: 0        0\n",
       "Name              0\n",
       "JapaneseName      0\n",
       "Station           0\n",
       "FirstCategory     0\n",
       "SecondCategory    0\n",
       "DinnerPrice       0\n",
       "LunchPrice        0\n",
       "TotalRating       0\n",
       "DinnerRating      0\n",
       "LunchRating       0\n",
       "ReviewNum         0\n",
       "Lat               0\n",
       "Long              0\n",
       "dtype: int64"
      ]
     },
     "execution_count": 10,
     "metadata": {},
     "output_type": "execute_result"
    }
   ],
   "source": [
    "data.isnull().sum()"
   ]
  },
  {
   "cell_type": "code",
   "execution_count": 11,
   "metadata": {},
   "outputs": [
    {
     "name": "stderr",
     "output_type": "stream",
     "text": [
      "/Users/joshuayoung/opt/anaconda3/lib/python3.7/site-packages/matplotlib/backends/backend_agg.py:211: RuntimeWarning: Glyph 65509 missing from current font.\n",
      "  font.set_text(s, 0.0, flags=flags)\n",
      "/Users/joshuayoung/opt/anaconda3/lib/python3.7/site-packages/matplotlib/backends/backend_agg.py:211: RuntimeWarning: Glyph 65374 missing from current font.\n",
      "  font.set_text(s, 0.0, flags=flags)\n",
      "/Users/joshuayoung/opt/anaconda3/lib/python3.7/site-packages/matplotlib/backends/backend_agg.py:180: RuntimeWarning: Glyph 65509 missing from current font.\n",
      "  font.set_text(s, 0, flags=flags)\n",
      "/Users/joshuayoung/opt/anaconda3/lib/python3.7/site-packages/matplotlib/backends/backend_agg.py:180: RuntimeWarning: Glyph 65374 missing from current font.\n",
      "  font.set_text(s, 0, flags=flags)\n"
     ]
    },
    {
     "data": {
      "image/png": "[encoded data removed]",
      "text/plain": [
       "<Figure size 1440x720 with 1 Axes>"
      ]
     },
     "metadata": {
      "needs_background": "light"
     },
     "output_type": "display_data"
    }
   ],
   "source": [
    "plt.figure(figsize=(20, 10))\n",
    "plt.title('Dinner Price in Yen w/ Raiting')\n",
    "sns.boxplot(x='DinnerPrice', y='TotalRating', data=data);"
   ]
  },
  {
   "cell_type": "markdown",
   "metadata": {},
   "source": [
    "It looks like the best restaurants dinner price is between ¥20,000 - ¥29,999. Restaurant dinner prices' from ¥10,000 - ¥14,999 have the most outliers for low raiting scores. "
   ]
  },
  {
   "cell_type": "markdown",
   "metadata": {},
   "source": [
    "To make this more readable for myself an American citizen I will be converting the Yen range into the average of the range in USD. \n",
    "Using the conversion 100 Yen = $0.94."
   ]
  },
  {
   "cell_type": "code",
   "execution_count": 12,
   "metadata": {},
   "outputs": [
    {
     "data": {
      "text/plain": [
       "array(['￥4000～￥4999', '￥3000～￥3999', '￥8000～￥9999', '￥2000～￥2999',\n",
       "       '￥10000～￥14999', '￥5000～￥5999', '￥6000～￥7999', '￥20000～￥29999',\n",
       "       '￥1000～￥1999', ' ～￥999', '￥15000～￥19999', '￥30000～'], dtype=object)"
      ]
     },
     "execution_count": 12,
     "metadata": {},
     "output_type": "execute_result"
    }
   ],
   "source": [
    "data['DinnerPrice'].unique()"
   ]
  },
  {
   "cell_type": "code",
   "execution_count": 13,
   "metadata": {},
   "outputs": [],
   "source": [
    "data.replace('￥4000～￥4999', '42', inplace=True)\n",
    "data.replace('￥3000～￥3999', '33', inplace=True)\n",
    "data.replace('￥8000～￥9999', '85', inplace=True)\n",
    "data.replace('￥2000～￥2999', '24', inplace=True)\n",
    "data.replace('￥10000～￥14999', '117', inplace=True)\n",
    "data.replace('￥5000～￥5999', '52', inplace=True)\n",
    "data.replace('￥6000～￥7999', '65', inplace=True)\n",
    "data.replace('￥20000～￥29999', '235', inplace=True)\n",
    "data.replace('￥1000～￥1999', '14', inplace=True)\n",
    "data.replace('～￥999', '9', inplace=True)\n",
    "data.replace('￥15000～￥19999', '165', inplace=True)\n",
    "data.replace('￥30000～', '282', inplace=True)"
   ]
  },
  {
   "cell_type": "code",
   "execution_count": 14,
   "metadata": {},
   "outputs": [
    {
     "data": {
      "text/html": [
       "<div>\n",
       "<style scoped>\n",
       "    .dataframe tbody tr th:only-of-type {\n",
       "        vertical-align: middle;\n",
       "    }\n",
       "\n",
       "    .dataframe tbody tr th {\n",
       "        vertical-align: top;\n",
       "    }\n",
       "\n",
       "    .dataframe thead th {\n",
       "        text-align: right;\n",
       "    }\n",
       "</style>\n",
       "<table border=\"1\" class=\"dataframe\">\n",
       "  <thead>\n",
       "    <tr style=\"text-align: right;\">\n",
       "      <th></th>\n",
       "      <th>Unnamed: 0</th>\n",
       "      <th>Name</th>\n",
       "      <th>JapaneseName</th>\n",
       "      <th>Station</th>\n",
       "      <th>FirstCategory</th>\n",
       "      <th>SecondCategory</th>\n",
       "      <th>DinnerPrice</th>\n",
       "      <th>LunchPrice</th>\n",
       "      <th>TotalRating</th>\n",
       "      <th>DinnerRating</th>\n",
       "      <th>LunchRating</th>\n",
       "      <th>ReviewNum</th>\n",
       "      <th>Lat</th>\n",
       "      <th>Long</th>\n",
       "    </tr>\n",
       "  </thead>\n",
       "  <tbody>\n",
       "    <tr>\n",
       "      <th>0</th>\n",
       "      <td>1</td>\n",
       "      <td>Orudeidainingurajou</td>\n",
       "      <td>オールデイダイニング　ラジョウ</td>\n",
       "      <td>Kyoto</td>\n",
       "      <td>Buffet style</td>\n",
       "      <td>Cafe</td>\n",
       "      <td>42</td>\n",
       "      <td>24</td>\n",
       "      <td>3.39</td>\n",
       "      <td>3.20</td>\n",
       "      <td>3.38</td>\n",
       "      <td>56</td>\n",
       "      <td>34.986175</td>\n",
       "      <td>135.761314</td>\n",
       "    </tr>\n",
       "    <tr>\n",
       "      <th>1</th>\n",
       "      <td>2</td>\n",
       "      <td>Steak Frites Gaspard zinzin</td>\n",
       "      <td>ステックフリット ガスパール ザンザン</td>\n",
       "      <td>Karasuma</td>\n",
       "      <td>Bistro</td>\n",
       "      <td>Steak</td>\n",
       "      <td>33</td>\n",
       "      <td>14</td>\n",
       "      <td>3.18</td>\n",
       "      <td>3.06</td>\n",
       "      <td>3.33</td>\n",
       "      <td>70</td>\n",
       "      <td>35.005826</td>\n",
       "      <td>135.759857</td>\n",
       "    </tr>\n",
       "    <tr>\n",
       "      <th>2</th>\n",
       "      <td>3</td>\n",
       "      <td>KAZUMA</td>\n",
       "      <td>和馬</td>\n",
       "      <td>Sanjo</td>\n",
       "      <td>Izakaya (Tavern)</td>\n",
       "      <td>Japanese food (other)</td>\n",
       "      <td>33</td>\n",
       "      <td>NaN</td>\n",
       "      <td>3.28</td>\n",
       "      <td>3.28</td>\n",
       "      <td>NaN</td>\n",
       "      <td>7</td>\n",
       "      <td>35.006583</td>\n",
       "      <td>135.770247</td>\n",
       "    </tr>\n",
       "    <tr>\n",
       "      <th>3</th>\n",
       "      <td>4</td>\n",
       "      <td>okonomiyakiteppanyakimiki</td>\n",
       "      <td>お好み焼き 鉄板焼き 三喜</td>\n",
       "      <td>Tambaguchi</td>\n",
       "      <td>Okonomiyaki</td>\n",
       "      <td>Izakaya (Tavern)</td>\n",
       "      <td>33</td>\n",
       "      <td>NaN</td>\n",
       "      <td>3.14</td>\n",
       "      <td>3.14</td>\n",
       "      <td>NaN</td>\n",
       "      <td>16</td>\n",
       "      <td>34.995924</td>\n",
       "      <td>135.748267</td>\n",
       "    </tr>\n",
       "    <tr>\n",
       "      <th>4</th>\n",
       "      <td>5</td>\n",
       "      <td>Shaofeiyan</td>\n",
       "      <td>小肥羊 京都河原町店</td>\n",
       "      <td>Kyoto Shiyakusho Mae</td>\n",
       "      <td>Chinese hot pot / fire pot</td>\n",
       "      <td>Chinese</td>\n",
       "      <td>42</td>\n",
       "      <td>14</td>\n",
       "      <td>3.16</td>\n",
       "      <td>3.16</td>\n",
       "      <td>3.05</td>\n",
       "      <td>23</td>\n",
       "      <td>35.007901</td>\n",
       "      <td>135.768202</td>\n",
       "    </tr>\n",
       "  </tbody>\n",
       "</table>\n",
       "</div>"
      ],
      "text/plain": [
       "   Unnamed: 0                           Name         JapaneseName  \\\n",
       "0           1          Orudeidainingurajou        オールデイダイニング　ラジョウ   \n",
       "1           2  Steak Frites Gaspard zinzin    ステックフリット ガスパール ザンザン   \n",
       "2           3                       KAZUMA                     和馬   \n",
       "3           4    okonomiyakiteppanyakimiki          お好み焼き 鉄板焼き 三喜   \n",
       "4           5                   Shaofeiyan             小肥羊 京都河原町店   \n",
       "\n",
       "                Station               FirstCategory         SecondCategory  \\\n",
       "0                 Kyoto                Buffet style                   Cafe   \n",
       "1              Karasuma                      Bistro                  Steak   \n",
       "2                 Sanjo            Izakaya (Tavern)  Japanese food (other)   \n",
       "3            Tambaguchi                 Okonomiyaki       Izakaya (Tavern)   \n",
       "4  Kyoto Shiyakusho Mae  Chinese hot pot / fire pot                Chinese   \n",
       "\n",
       "  DinnerPrice LunchPrice  TotalRating  DinnerRating  LunchRating  ReviewNum  \\\n",
       "0          42         24         3.39          3.20         3.38         56   \n",
       "1          33         14         3.18          3.06         3.33         70   \n",
       "2          33        NaN         3.28          3.28          NaN          7   \n",
       "3          33        NaN         3.14          3.14          NaN         16   \n",
       "4          42         14         3.16          3.16         3.05         23   \n",
       "\n",
       "         Lat        Long  \n",
       "0  34.986175  135.761314  \n",
       "1  35.005826  135.759857  \n",
       "2  35.006583  135.770247  \n",
       "3  34.995924  135.748267  \n",
       "4  35.007901  135.768202  "
      ]
     },
     "execution_count": 14,
     "metadata": {},
     "output_type": "execute_result"
    }
   ],
   "source": [
    "data.head()"
   ]
  },
  {
   "cell_type": "code",
   "execution_count": 17,
   "metadata": {},
   "outputs": [],
   "source": [
    "data.rename(columns={'DinnerPrice': 'AVG_DinnerPrice_USD$', \n",
    "                     'LunchPrice': 'AVG_LunchPrice_USD'},inplace=True)"
   ]
  },
  {
   "cell_type": "code",
   "execution_count": 18,
   "metadata": {},
   "outputs": [
    {
     "data": {
      "text/plain": [
       "Index(['Unnamed: 0', 'Name', 'JapaneseName', 'Station', 'FirstCategory',\n",
       "       'SecondCategory', 'AVG_DinnerPrice_USD$', 'AVG_LunchPrice_USD',\n",
       "       'TotalRating', 'DinnerRating', 'LunchRating', 'ReviewNum', 'Lat',\n",
       "       'Long'],\n",
       "      dtype='object')"
      ]
     },
     "execution_count": 18,
     "metadata": {},
     "output_type": "execute_result"
    }
   ],
   "source": [
    "data.columns"
   ]
  },
  {
   "cell_type": "code",
   "execution_count": 19,
   "metadata": {},
   "outputs": [
    {
     "data": {
      "text/plain": [
       "Unnamed: 0                int64\n",
       "Name                     object\n",
       "JapaneseName             object\n",
       "Station                  object\n",
       "FirstCategory            object\n",
       "SecondCategory           object\n",
       "AVG_DinnerPrice_USD$     object\n",
       "AVG_LunchPrice_USD       object\n",
       "TotalRating             float64\n",
       "DinnerRating            float64\n",
       "LunchRating             float64\n",
       "ReviewNum                 int64\n",
       "Lat                     float64\n",
       "Long                    float64\n",
       "dtype: object"
      ]
     },
     "execution_count": 19,
     "metadata": {},
     "output_type": "execute_result"
    }
   ],
   "source": [
    "data.dtypes"
   ]
  },
  {
   "cell_type": "code",
   "execution_count": 22,
   "metadata": {},
   "outputs": [],
   "source": [
    "# Lets change the Dinner and Lunch Prices from objects into floats. \n",
    "\n",
    "data['AVG_DinnerPrice_USD$'] = pd.to_numeric(data['AVG_DinnerPrice_USD$'],errors='coerce')\n",
    "\n",
    "data['AVG_LunchPrice_USD'] = pd.to_numeric(data['AVG_LunchPrice_USD'],errors='coerce')\n"
   ]
  },
  {
   "cell_type": "code",
   "execution_count": 23,
   "metadata": {},
   "outputs": [
    {
     "data": {
      "text/plain": [
       "Unnamed: 0                int64\n",
       "Name                     object\n",
       "JapaneseName             object\n",
       "Station                  object\n",
       "FirstCategory            object\n",
       "SecondCategory           object\n",
       "AVG_DinnerPrice_USD$    float64\n",
       "AVG_LunchPrice_USD      float64\n",
       "TotalRating             float64\n",
       "DinnerRating            float64\n",
       "LunchRating             float64\n",
       "ReviewNum                 int64\n",
       "Lat                     float64\n",
       "Long                    float64\n",
       "dtype: object"
      ]
     },
     "execution_count": 23,
     "metadata": {},
     "output_type": "execute_result"
    }
   ],
   "source": [
    "data.dtypes"
   ]
  },
  {
   "cell_type": "code",
   "execution_count": 27,
   "metadata": {},
   "outputs": [
    {
     "data": {
      "image/png": "[encoded data removed]",
      "text/plain": [
       "<Figure size 1440x720 with 1 Axes>"
      ]
     },
     "metadata": {
      "needs_background": "light"
     },
     "output_type": "display_data"
    }
   ],
   "source": [
    "\n",
    "plt.figure(figsize=(20, 10))\n",
    "sns.boxplot(x='AVG_LunchPrice_USD', y='LunchRating', data=data);"
   ]
  },
  {
   "cell_type": "code",
   "execution_count": 26,
   "metadata": {},
   "outputs": [
    {
     "data": {
      "image/png": "[encoded data removed]",
      "text/plain": [
       "<Figure size 1440x720 with 1 Axes>"
      ]
     },
     "metadata": {
      "needs_background": "light"
     },
     "output_type": "display_data"
    }
   ],
   "source": [
    "\n",
    "plt.figure(figsize=(20, 10))\n",
    "sns.boxplot(x='AVG_DinnerPrice_USD$', y='DinnerRating', data=data);\n"
   ]
  },
  {
   "cell_type": "markdown",
   "metadata": {},
   "source": [
    "**Insight**\n",
    "\n",
    "Obvious correlation that the more you spend in lunch and dinner the better quality meal you can expect. Though, the bang for your buck, or the amount you pay to the quality you receive is not linear. \n",
    "\n",
    "We will create our own variable to better compare a restaurants rating and their coresponding meal price. This will be done by dividing the average meal price with its corresponding raiting."
   ]
  },
  {
   "cell_type": "code",
   "execution_count": 29,
   "metadata": {},
   "outputs": [
    {
     "data": {
      "text/html": [
       "<div>\n",
       "<style scoped>\n",
       "    .dataframe tbody tr th:only-of-type {\n",
       "        vertical-align: middle;\n",
       "    }\n",
       "\n",
       "    .dataframe tbody tr th {\n",
       "        vertical-align: top;\n",
       "    }\n",
       "\n",
       "    .dataframe thead th {\n",
       "        text-align: right;\n",
       "    }\n",
       "</style>\n",
       "<table border=\"1\" class=\"dataframe\">\n",
       "  <thead>\n",
       "    <tr style=\"text-align: right;\">\n",
       "      <th></th>\n",
       "      <th>Unnamed: 0</th>\n",
       "      <th>Name</th>\n",
       "      <th>JapaneseName</th>\n",
       "      <th>Station</th>\n",
       "      <th>FirstCategory</th>\n",
       "      <th>SecondCategory</th>\n",
       "      <th>AVG_DinnerPrice_USD$</th>\n",
       "      <th>AVG_LunchPrice_USD</th>\n",
       "      <th>TotalRating</th>\n",
       "      <th>DinnerRating</th>\n",
       "      <th>LunchRating</th>\n",
       "      <th>ReviewNum</th>\n",
       "      <th>Lat</th>\n",
       "      <th>Long</th>\n",
       "      <th>Cost_Rating_Dinner</th>\n",
       "      <th>Cost_Rating_Lunch</th>\n",
       "    </tr>\n",
       "  </thead>\n",
       "  <tbody>\n",
       "    <tr>\n",
       "      <th>0</th>\n",
       "      <td>1</td>\n",
       "      <td>Orudeidainingurajou</td>\n",
       "      <td>オールデイダイニング　ラジョウ</td>\n",
       "      <td>Kyoto</td>\n",
       "      <td>Buffet style</td>\n",
       "      <td>Cafe</td>\n",
       "      <td>42.0</td>\n",
       "      <td>24.0</td>\n",
       "      <td>3.39</td>\n",
       "      <td>3.20</td>\n",
       "      <td>3.38</td>\n",
       "      <td>56</td>\n",
       "      <td>34.986175</td>\n",
       "      <td>135.761314</td>\n",
       "      <td>13.125000</td>\n",
       "      <td>7.100592</td>\n",
       "    </tr>\n",
       "    <tr>\n",
       "      <th>1</th>\n",
       "      <td>2</td>\n",
       "      <td>Steak Frites Gaspard zinzin</td>\n",
       "      <td>ステックフリット ガスパール ザンザン</td>\n",
       "      <td>Karasuma</td>\n",
       "      <td>Bistro</td>\n",
       "      <td>Steak</td>\n",
       "      <td>33.0</td>\n",
       "      <td>14.0</td>\n",
       "      <td>3.18</td>\n",
       "      <td>3.06</td>\n",
       "      <td>3.33</td>\n",
       "      <td>70</td>\n",
       "      <td>35.005826</td>\n",
       "      <td>135.759857</td>\n",
       "      <td>10.784314</td>\n",
       "      <td>4.204204</td>\n",
       "    </tr>\n",
       "    <tr>\n",
       "      <th>2</th>\n",
       "      <td>3</td>\n",
       "      <td>KAZUMA</td>\n",
       "      <td>和馬</td>\n",
       "      <td>Sanjo</td>\n",
       "      <td>Izakaya (Tavern)</td>\n",
       "      <td>Japanese food (other)</td>\n",
       "      <td>33.0</td>\n",
       "      <td>NaN</td>\n",
       "      <td>3.28</td>\n",
       "      <td>3.28</td>\n",
       "      <td>NaN</td>\n",
       "      <td>7</td>\n",
       "      <td>35.006583</td>\n",
       "      <td>135.770247</td>\n",
       "      <td>10.060976</td>\n",
       "      <td>NaN</td>\n",
       "    </tr>\n",
       "    <tr>\n",
       "      <th>3</th>\n",
       "      <td>4</td>\n",
       "      <td>okonomiyakiteppanyakimiki</td>\n",
       "      <td>お好み焼き 鉄板焼き 三喜</td>\n",
       "      <td>Tambaguchi</td>\n",
       "      <td>Okonomiyaki</td>\n",
       "      <td>Izakaya (Tavern)</td>\n",
       "      <td>33.0</td>\n",
       "      <td>NaN</td>\n",
       "      <td>3.14</td>\n",
       "      <td>3.14</td>\n",
       "      <td>NaN</td>\n",
       "      <td>16</td>\n",
       "      <td>34.995924</td>\n",
       "      <td>135.748267</td>\n",
       "      <td>10.509554</td>\n",
       "      <td>NaN</td>\n",
       "    </tr>\n",
       "    <tr>\n",
       "      <th>4</th>\n",
       "      <td>5</td>\n",
       "      <td>Shaofeiyan</td>\n",
       "      <td>小肥羊 京都河原町店</td>\n",
       "      <td>Kyoto Shiyakusho Mae</td>\n",
       "      <td>Chinese hot pot / fire pot</td>\n",
       "      <td>Chinese</td>\n",
       "      <td>42.0</td>\n",
       "      <td>14.0</td>\n",
       "      <td>3.16</td>\n",
       "      <td>3.16</td>\n",
       "      <td>3.05</td>\n",
       "      <td>23</td>\n",
       "      <td>35.007901</td>\n",
       "      <td>135.768202</td>\n",
       "      <td>13.291139</td>\n",
       "      <td>4.590164</td>\n",
       "    </tr>\n",
       "  </tbody>\n",
       "</table>\n",
       "</div>"
      ],
      "text/plain": [
       "   Unnamed: 0                           Name         JapaneseName  \\\n",
       "0           1          Orudeidainingurajou        オールデイダイニング　ラジョウ   \n",
       "1           2  Steak Frites Gaspard zinzin    ステックフリット ガスパール ザンザン   \n",
       "2           3                       KAZUMA                     和馬   \n",
       "3           4    okonomiyakiteppanyakimiki          お好み焼き 鉄板焼き 三喜   \n",
       "4           5                   Shaofeiyan             小肥羊 京都河原町店   \n",
       "\n",
       "                Station               FirstCategory         SecondCategory  \\\n",
       "0                 Kyoto                Buffet style                   Cafe   \n",
       "1              Karasuma                      Bistro                  Steak   \n",
       "2                 Sanjo            Izakaya (Tavern)  Japanese food (other)   \n",
       "3            Tambaguchi                 Okonomiyaki       Izakaya (Tavern)   \n",
       "4  Kyoto Shiyakusho Mae  Chinese hot pot / fire pot                Chinese   \n",
       "\n",
       "   AVG_DinnerPrice_USD$  AVG_LunchPrice_USD  TotalRating  DinnerRating  \\\n",
       "0                  42.0                24.0         3.39          3.20   \n",
       "1                  33.0                14.0         3.18          3.06   \n",
       "2                  33.0                 NaN         3.28          3.28   \n",
       "3                  33.0                 NaN         3.14          3.14   \n",
       "4                  42.0                14.0         3.16          3.16   \n",
       "\n",
       "   LunchRating  ReviewNum        Lat        Long  Cost_Rating_Dinner  \\\n",
       "0         3.38         56  34.986175  135.761314           13.125000   \n",
       "1         3.33         70  35.005826  135.759857           10.784314   \n",
       "2          NaN          7  35.006583  135.770247           10.060976   \n",
       "3          NaN         16  34.995924  135.748267           10.509554   \n",
       "4         3.05         23  35.007901  135.768202           13.291139   \n",
       "\n",
       "   Cost_Rating_Lunch  \n",
       "0           7.100592  \n",
       "1           4.204204  \n",
       "2                NaN  \n",
       "3                NaN  \n",
       "4           4.590164  "
      ]
     },
     "execution_count": 29,
     "metadata": {},
     "output_type": "execute_result"
    }
   ],
   "source": [
    "# To better quantify our results we will be creating a new column that takes the average meal price and divides it with the corresponding rating. This will give us a 'Cost/Rating Variable'\n",
    "\n",
    "data['Cost_Rating_Dinner'] = data['AVG_DinnerPrice_USD$'] / data['DinnerRating']\n",
    "\n",
    "data['Cost_Rating_Lunch'] = data ['AVG_LunchPrice_USD'] / data['LunchRating']\n",
    "data.head()\n"
   ]
  },
  {
   "cell_type": "code",
   "execution_count": 30,
   "metadata": {},
   "outputs": [
    {
     "data": {
      "text/plain": [
       "count    871.000000\n",
       "mean      13.840151\n",
       "std        8.992631\n",
       "min        3.888889\n",
       "25%        9.677419\n",
       "50%       10.891089\n",
       "75%       14.222222\n",
       "max       79.213483\n",
       "Name: Cost_Rating_Dinner, dtype: float64"
      ]
     },
     "execution_count": 30,
     "metadata": {},
     "output_type": "execute_result"
    }
   ],
   "source": [
    "data['Cost_Rating_Dinner'].describe()"
   ]
  },
  {
   "cell_type": "code",
   "execution_count": 31,
   "metadata": {},
   "outputs": [
    {
     "data": {
      "text/plain": [
       "count    298.000000\n",
       "mean       8.061332\n",
       "std        6.366779\n",
       "min        3.878116\n",
       "25%        4.487179\n",
       "50%        4.666667\n",
       "75%       10.353867\n",
       "max       54.817276\n",
       "Name: Cost_Rating_Lunch, dtype: float64"
      ]
     },
     "execution_count": 31,
     "metadata": {},
     "output_type": "execute_result"
    }
   ],
   "source": [
    "data['Cost_Rating_Lunch'].describe()"
   ]
  },
  {
   "cell_type": "markdown",
   "metadata": {},
   "source": [
    "The new variables, 'Cost_Rating_Lunch' and 'Cost_Rating_Dinner' are used to sort the datas best restaurants in Tableau. You can see the results in the presentaion PowerPoint. "
   ]
  },
  {
   "cell_type": "code",
   "execution_count": null,
   "metadata": {},
   "outputs": [],
   "source": [
    "data.to_csv(r'Kyoto_Data_BFB.csv', index = False)"
   ]
  }
 ],
 "metadata": {
  "kernelspec": {
   "display_name": "Python 3",
   "language": "python",
   "name": "python3"
  },
  "language_info": {
   "codemirror_mode": {
    "name": "ipython",
    "version": 3
   },
   "file_extension": ".py",
   "mimetype": "text/x-python",
   "name": "python",
   "nbconvert_exporter": "python",
   "pygments_lexer": "ipython3",
   "version": "3.7.6"
  }
 },
 "nbformat": 4,
 "nbformat_minor": 4
}
